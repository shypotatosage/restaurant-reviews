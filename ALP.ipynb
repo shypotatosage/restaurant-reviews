{
 "cells": [
  {
   "cell_type": "markdown",
   "id": "6863d293-d14b-4f43-b022-afc2984a083d",
   "metadata": {
    "id": "6863d293-d14b-4f43-b022-afc2984a083d"
   },
   "source": [
    "# Restaurant Review Classification Based on 3 Aspect"
   ]
  },
  {
   "cell_type": "markdown",
   "id": "4b4a96d3-c441-4ae6-9038-5a07d15e7523",
   "metadata": {
    "id": "4b4a96d3-c441-4ae6-9038-5a07d15e7523"
   },
   "source": [
    "Micheila Jiemesha - 0706012110032\n",
    "<br>Marsha Alexis Likorawung - 0706012110034\n",
    "<br>Michelle Swastika Bianglala Nusantara - 0706012110002\n",
    "<br>Rifqie Tilqa Reamizard - 0706012110025"
   ]
  },
  {
   "cell_type": "code",
   "execution_count": 1,
   "id": "62e772ff-e15d-4f97-b06e-6d6dbff826c9",
   "metadata": {
    "id": "62e772ff-e15d-4f97-b06e-6d6dbff826c9"
   },
   "outputs": [],
   "source": [
    "import pandas as pd\n",
    "import numpy as np"
   ]
  },
  {
   "cell_type": "code",
   "execution_count": 2,
   "id": "d773eb02-9cc7-4435-b02b-05f4afc32f04",
   "metadata": {
    "id": "d773eb02-9cc7-4435-b02b-05f4afc32f04"
   },
   "outputs": [],
   "source": [
    "data = pd.read_csv('restaurant_reviews_labelled.csv')"
   ]
  },
  {
   "cell_type": "code",
   "execution_count": 3,
   "id": "ecd67817-8150-4338-b898-59c794087440",
   "metadata": {
    "id": "ecd67817-8150-4338-b898-59c794087440"
   },
   "outputs": [],
   "source": [
    "import spacy\n",
    "import re\n",
    "from nltk.corpus import stopwords\n",
    "\n",
    "nlp = spacy.load(\"en_core_web_sm\")\n",
    "\n",
    "def preprocess_text(text):\n",
    "    stop_words = set(stopwords.words('english'))\n",
    "\n",
    "    # Clean the text: remove non-word characters, convert to lowercase, and handle extra spaces\n",
    "    text = re.sub(r'\\W', ' ', text)\n",
    "    text = text.lower()\n",
    "    text = re.sub(r'\\s+', ' ', text)\n",
    "\n",
    "    # Remove stopwords and lemmatize the remaining words\n",
    "    text = ' '.join([token.lemma_ for token in nlp(\" \".join([word for word in text.split() if word not in stop_words]))])\n",
    "\n",
    "    return text"
   ]
  },
  {
   "cell_type": "code",
   "execution_count": 4,
   "id": "2b56fe37-8c87-4744-be2e-facac87c1d69",
   "metadata": {
    "id": "2b56fe37-8c87-4744-be2e-facac87c1d69"
   },
   "outputs": [],
   "source": [
    "data['Review'] = data['Review'].apply(preprocess_text)"
   ]
  },
  {
   "cell_type": "code",
   "execution_count": 5,
   "id": "5b41aa5e-c52d-42f4-8ba3-a65682c82a6b",
   "metadata": {
    "id": "5b41aa5e-c52d-42f4-8ba3-a65682c82a6b"
   },
   "outputs": [],
   "source": [
    "data.to_csv('restaurant_reviews_preprocessed.csv', index=False)"
   ]
  },
  {
   "cell_type": "code",
   "execution_count": 6,
   "id": "1d22de8d-f5c0-4663-b2e8-807a24c7483f",
   "metadata": {
    "id": "1d22de8d-f5c0-4663-b2e8-807a24c7483f"
   },
   "outputs": [],
   "source": [
    "targets = ['Food & Drinks Quality & Price', 'General (Ambience, Entertainment, & Experience)', 'Service']\n",
    "\n",
    "for target in targets:\n",
    "    data[target] = data[target].fillna('Good')"
   ]
  },
  {
   "cell_type": "code",
   "execution_count": 7,
   "id": "894b7110-5ed6-4474-bcef-da24bff4741e",
   "metadata": {},
   "outputs": [],
   "source": [
    "val_data = data.sample(n=36, random_state=42)"
   ]
  },
  {
   "cell_type": "code",
   "execution_count": 8,
   "id": "16125025-ea1a-4c75-9322-6ec1d6ab9596",
   "metadata": {},
   "outputs": [],
   "source": [
    "data = data.drop(val_data.index)"
   ]
  },
  {
   "cell_type": "code",
   "execution_count": 9,
   "id": "62ed1d8d-2192-47d9-a0d3-bd29ae3ef97d",
   "metadata": {
    "id": "62ed1d8d-2192-47d9-a0d3-bd29ae3ef97d",
    "outputId": "cb062222-b4af-4ea4-d117-14427c6f5dec"
   },
   "outputs": [
    {
     "data": {
      "text/plain": [
       "Food & Drinks Quality & Price\n",
       "Good    3903\n",
       "Bad     1297\n",
       "Name: count, dtype: int64"
      ]
     },
     "execution_count": 9,
     "metadata": {},
     "output_type": "execute_result"
    }
   ],
   "source": [
    "data[targets[0]].value_counts()"
   ]
  },
  {
   "cell_type": "code",
   "execution_count": 10,
   "id": "d925e2a0-fb62-4af6-9e4c-aa98459b2eaa",
   "metadata": {
    "id": "d925e2a0-fb62-4af6-9e4c-aa98459b2eaa",
    "outputId": "7ef95426-5bcc-4576-e91f-d3982b9f3ede"
   },
   "outputs": [
    {
     "data": {
      "text/plain": [
       "General (Ambience, Entertainment, & Experience)\n",
       "Good    4119\n",
       "Bad     1081\n",
       "Name: count, dtype: int64"
      ]
     },
     "execution_count": 10,
     "metadata": {},
     "output_type": "execute_result"
    }
   ],
   "source": [
    "data[targets[1]].value_counts()"
   ]
  },
  {
   "cell_type": "code",
   "execution_count": 11,
   "id": "af9d199a-eb88-4de7-a913-b41c691b1147",
   "metadata": {
    "id": "af9d199a-eb88-4de7-a913-b41c691b1147",
    "outputId": "b7bd9492-d7ac-4cd8-d36d-6e198f1da75b"
   },
   "outputs": [
    {
     "data": {
      "text/plain": [
       "Service\n",
       "Good    4115\n",
       "Bad     1085\n",
       "Name: count, dtype: int64"
      ]
     },
     "execution_count": 11,
     "metadata": {},
     "output_type": "execute_result"
    }
   ],
   "source": [
    "data[targets[2]].value_counts()"
   ]
  },
  {
   "cell_type": "code",
   "execution_count": 12,
   "id": "a9a7b882-661c-42df-9f8f-9475edd6d5dc",
   "metadata": {
    "id": "a9a7b882-661c-42df-9f8f-9475edd6d5dc"
   },
   "outputs": [],
   "source": [
    "datasets = {}\n",
    "\n",
    "for target in targets:\n",
    "    target_data = data[['Review', target]]\n",
    "    datasets[target] = target_data"
   ]
  },
  {
   "cell_type": "code",
   "execution_count": 13,
   "id": "024198e8-80d9-4fbb-a1aa-47361654b828",
   "metadata": {
    "id": "024198e8-80d9-4fbb-a1aa-47361654b828"
   },
   "outputs": [],
   "source": [
    "from imblearn.over_sampling import SMOTE\n",
    "from sklearn.model_selection import train_test_split\n",
    "from sklearn.feature_extraction.text import TfidfVectorizer\n",
    "from sklearn.metrics import accuracy_score, classification_report\n",
    "import joblib\n",
    "\n",
    "def train_and_evaluate_model(datasets, model_name, model_class, **model_params):\n",
    "    models = {}\n",
    "\n",
    "    for target, dataset in datasets.items():\n",
    "        X = dataset['Review']\n",
    "        y = dataset[target].apply(lambda x: 1 if x == 'Good' else 0)\n",
    "\n",
    "        X_train, X_test, y_train, y_test = train_test_split(X, y, test_size=0.2, random_state=42)\n",
    "\n",
    "        vectorizer = TfidfVectorizer(max_features=5000)\n",
    "        X_train_vec = vectorizer.fit_transform(X_train)\n",
    "        X_test_vec = vectorizer.transform(X_test)\n",
    "\n",
    "        # Modify SMOTE for multi-class\n",
    "        smote = SMOTE(random_state=42)\n",
    "        X_train_resampled, y_train_resampled = smote.fit_resample(X_train_vec, y_train)\n",
    "\n",
    "        model = model_class(**model_params)\n",
    "        model.fit(X_train_resampled, y_train_resampled)\n",
    "\n",
    "        y_pred = model.predict(X_test_vec)\n",
    "        accuracy = accuracy_score(y_test, y_pred)\n",
    "        print(f'Accuracy for {target}: {accuracy:.2f}')\n",
    "        print(f'Performance for {target}:')\n",
    "        print(classification_report(y_test, y_pred))\n",
    "\n",
    "        joblib.dump(model, f'{model_name}_{target}_model.pkl')\n",
    "        joblib.dump(vectorizer, f'{model_name}_{target}_vectorizer.pkl')\n",
    "        models[target] = (model, vectorizer)\n",
    "        print()\n",
    "\n",
    "    return models"
   ]
  },
  {
   "cell_type": "code",
   "execution_count": 14,
   "id": "be2423c1-8695-49cd-a629-172e8faf8280",
   "metadata": {
    "id": "be2423c1-8695-49cd-a629-172e8faf8280"
   },
   "outputs": [],
   "source": [
    "def predict_review(review, models):\n",
    "    review = preprocess_text(review)\n",
    "    predictions = {}\n",
    "    \n",
    "    for target in models:\n",
    "        model, vectorizer = models[target]\n",
    "        \n",
    "        review_vec = vectorizer.transform([review])\n",
    "        prediction = model.predict(review_vec)[0]\n",
    "        \n",
    "        predictions[target] = 'Good' if prediction == 1 else 'Bad'\n",
    "        \n",
    "    return predictions"
   ]
  },
  {
   "cell_type": "code",
   "execution_count": 15,
   "id": "1d479392-b622-48fe-9529-3f428d878218",
   "metadata": {},
   "outputs": [],
   "source": [
    "def evaluate_val_data(val_data, models, target_columns):\n",
    "    accuracies = {}\n",
    "\n",
    "    for target in target_columns:\n",
    "        true_labels = val_data[target].map({'Good': 1, 'Bad': 0})\n",
    "        predictions = []\n",
    "\n",
    "        for review in val_data['Review']:\n",
    "            review_predictions = predict_review(review, {target: models[target]})\n",
    "            predicted_label = 1 if review_predictions[target] == 'Good' else 0\n",
    "            predictions.append(predicted_label)\n",
    "\n",
    "        accuracy = accuracy_score(true_labels, predictions)\n",
    "        accuracies[target] = accuracy\n",
    "        print(f\"Validation Accuracy for {target}: {accuracy:.2f}\")\n",
    "\n",
    "    return accuracies"
   ]
  },
  {
   "cell_type": "markdown",
   "id": "ff1c52ec-3356-4af3-99d6-e31311629b70",
   "metadata": {
    "id": "ff1c52ec-3356-4af3-99d6-e31311629b70"
   },
   "source": [
    "## Logistic Regression"
   ]
  },
  {
   "cell_type": "code",
   "execution_count": 16,
   "id": "d8800ca7-c323-4e72-9cea-cdb3925edf92",
   "metadata": {
    "id": "d8800ca7-c323-4e72-9cea-cdb3925edf92",
    "outputId": "276d44d4-a814-4e88-bd2c-cba959956a0a"
   },
   "outputs": [
    {
     "name": "stdout",
     "output_type": "stream",
     "text": [
      "Accuracy for Food & Drinks Quality & Price: 0.84\n",
      "Performance for Food & Drinks Quality & Price:\n",
      "              precision    recall  f1-score   support\n",
      "\n",
      "           0       0.65      0.77      0.70       248\n",
      "           1       0.92      0.87      0.89       792\n",
      "\n",
      "    accuracy                           0.84      1040\n",
      "   macro avg       0.78      0.82      0.80      1040\n",
      "weighted avg       0.86      0.84      0.85      1040\n",
      "\n",
      "\n",
      "Accuracy for General (Ambience, Entertainment, & Experience): 0.86\n",
      "Performance for General (Ambience, Entertainment, & Experience):\n",
      "              precision    recall  f1-score   support\n",
      "\n",
      "           0       0.65      0.75      0.70       216\n",
      "           1       0.93      0.89      0.91       824\n",
      "\n",
      "    accuracy                           0.86      1040\n",
      "   macro avg       0.79      0.82      0.80      1040\n",
      "weighted avg       0.87      0.86      0.87      1040\n",
      "\n",
      "\n",
      "Accuracy for Service: 0.89\n",
      "Performance for Service:\n",
      "              precision    recall  f1-score   support\n",
      "\n",
      "           0       0.70      0.79      0.74       208\n",
      "           1       0.95      0.91      0.93       832\n",
      "\n",
      "    accuracy                           0.89      1040\n",
      "   macro avg       0.82      0.85      0.84      1040\n",
      "weighted avg       0.90      0.89      0.89      1040\n",
      "\n",
      "\n"
     ]
    }
   ],
   "source": [
    "from sklearn.linear_model import LogisticRegression\n",
    "\n",
    "lr_models = train_and_evaluate_model(\n",
    "    datasets=datasets,\n",
    "    model_name='LogisticRegression',\n",
    "    model_class=LogisticRegression,\n",
    "    max_iter=1000,\n",
    "    random_state=42\n",
    ")"
   ]
  },
  {
   "cell_type": "code",
   "execution_count": 17,
   "id": "10d81456-218b-48f3-aa1a-f27106ce9fbf",
   "metadata": {},
   "outputs": [
    {
     "name": "stdout",
     "output_type": "stream",
     "text": [
      "Validation Accuracy for Food & Drinks Quality & Price: 0.78\n",
      "Validation Accuracy for General (Ambience, Entertainment, & Experience): 0.89\n",
      "Validation Accuracy for Service: 0.92\n"
     ]
    }
   ],
   "source": [
    "lr_accuracies = evaluate_val_data(val_data, lr_models, targets)"
   ]
  },
  {
   "cell_type": "markdown",
   "id": "e743d90d-fe37-406d-8bcb-be24b602a716",
   "metadata": {
    "id": "e743d90d-fe37-406d-8bcb-be24b602a716"
   },
   "source": [
    "## Random Forest"
   ]
  },
  {
   "cell_type": "code",
   "execution_count": 18,
   "id": "ff9e512a-baf6-4935-a098-e603d5441742",
   "metadata": {
    "id": "ff9e512a-baf6-4935-a098-e603d5441742",
    "outputId": "63dec5d2-ddb4-4ba4-8fcb-6b0df70bcef7"
   },
   "outputs": [
    {
     "name": "stdout",
     "output_type": "stream",
     "text": [
      "Accuracy for Food & Drinks Quality & Price: 0.82\n",
      "Performance for Food & Drinks Quality & Price:\n",
      "              precision    recall  f1-score   support\n",
      "\n",
      "           0       0.63      0.58      0.61       248\n",
      "           1       0.87      0.89      0.88       792\n",
      "\n",
      "    accuracy                           0.82      1040\n",
      "   macro avg       0.75      0.74      0.74      1040\n",
      "weighted avg       0.81      0.82      0.82      1040\n",
      "\n",
      "\n",
      "Accuracy for General (Ambience, Entertainment, & Experience): 0.83\n",
      "Performance for General (Ambience, Entertainment, & Experience):\n",
      "              precision    recall  f1-score   support\n",
      "\n",
      "           0       0.63      0.44      0.52       216\n",
      "           1       0.86      0.93      0.90       824\n",
      "\n",
      "    accuracy                           0.83      1040\n",
      "   macro avg       0.75      0.69      0.71      1040\n",
      "weighted avg       0.82      0.83      0.82      1040\n",
      "\n",
      "\n",
      "Accuracy for Service: 0.88\n",
      "Performance for Service:\n",
      "              precision    recall  f1-score   support\n",
      "\n",
      "           0       0.72      0.61      0.66       208\n",
      "           1       0.91      0.94      0.92       832\n",
      "\n",
      "    accuracy                           0.88      1040\n",
      "   macro avg       0.81      0.78      0.79      1040\n",
      "weighted avg       0.87      0.88      0.87      1040\n",
      "\n",
      "\n"
     ]
    }
   ],
   "source": [
    "from sklearn.ensemble import RandomForestClassifier\n",
    "\n",
    "rf_models = train_and_evaluate_model(\n",
    "    datasets=datasets,\n",
    "    model_name='RandomForest',\n",
    "    model_class=RandomForestClassifier,\n",
    "    n_estimators=100,\n",
    "    random_state=42\n",
    ")"
   ]
  },
  {
   "cell_type": "code",
   "execution_count": 19,
   "id": "ae5c2297-7cfc-417e-ad8f-8e95addfc630",
   "metadata": {},
   "outputs": [
    {
     "name": "stdout",
     "output_type": "stream",
     "text": [
      "Validation Accuracy for Food & Drinks Quality & Price: 0.86\n",
      "Validation Accuracy for General (Ambience, Entertainment, & Experience): 0.72\n",
      "Validation Accuracy for Service: 0.86\n"
     ]
    }
   ],
   "source": [
    "rf_accuracies = evaluate_val_data(val_data, rf_models, targets)"
   ]
  },
  {
   "cell_type": "markdown",
   "id": "4c72a419-3f42-4d2d-951c-be530e51ce9a",
   "metadata": {
    "id": "4c72a419-3f42-4d2d-951c-be530e51ce9a"
   },
   "source": [
    "## Decision Tree"
   ]
  },
  {
   "cell_type": "code",
   "execution_count": 20,
   "id": "f6045a7f-ab7f-4b60-ac44-670c02c2c4df",
   "metadata": {
    "id": "f6045a7f-ab7f-4b60-ac44-670c02c2c4df",
    "outputId": "d225f068-ad26-407c-9d8e-dba62b1f5604"
   },
   "outputs": [
    {
     "name": "stdout",
     "output_type": "stream",
     "text": [
      "Accuracy for Food & Drinks Quality & Price: 0.77\n",
      "Performance for Food & Drinks Quality & Price:\n",
      "              precision    recall  f1-score   support\n",
      "\n",
      "           0       0.52      0.56      0.54       248\n",
      "           1       0.86      0.84      0.85       792\n",
      "\n",
      "    accuracy                           0.77      1040\n",
      "   macro avg       0.69      0.70      0.69      1040\n",
      "weighted avg       0.78      0.77      0.78      1040\n",
      "\n",
      "\n",
      "Accuracy for General (Ambience, Entertainment, & Experience): 0.77\n",
      "Performance for General (Ambience, Entertainment, & Experience):\n",
      "              precision    recall  f1-score   support\n",
      "\n",
      "           0       0.45      0.50      0.47       216\n",
      "           1       0.87      0.84      0.85       824\n",
      "\n",
      "    accuracy                           0.77      1040\n",
      "   macro avg       0.66      0.67      0.66      1040\n",
      "weighted avg       0.78      0.77      0.77      1040\n",
      "\n",
      "\n",
      "Accuracy for Service: 0.82\n",
      "Performance for Service:\n",
      "              precision    recall  f1-score   support\n",
      "\n",
      "           0       0.54      0.57      0.55       208\n",
      "           1       0.89      0.88      0.88       832\n",
      "\n",
      "    accuracy                           0.82      1040\n",
      "   macro avg       0.71      0.72      0.72      1040\n",
      "weighted avg       0.82      0.82      0.82      1040\n",
      "\n",
      "\n"
     ]
    }
   ],
   "source": [
    "from sklearn.tree import DecisionTreeClassifier\n",
    "\n",
    "dt_models = train_and_evaluate_model(\n",
    "    datasets=datasets,\n",
    "    model_name='DecisionTree',\n",
    "    model_class=DecisionTreeClassifier,\n",
    "    max_depth=None,\n",
    "    random_state=42\n",
    ")"
   ]
  },
  {
   "cell_type": "code",
   "execution_count": 21,
   "id": "0b761459-1fa7-48ad-8e8e-169eb43bd0f7",
   "metadata": {
    "id": "0b761459-1fa7-48ad-8e8e-169eb43bd0f7",
    "outputId": "061a1d03-2af9-442a-86dd-b8031324bdbe"
   },
   "outputs": [
    {
     "name": "stdout",
     "output_type": "stream",
     "text": [
      "Validation Accuracy for Food & Drinks Quality & Price: 0.75\n",
      "Validation Accuracy for General (Ambience, Entertainment, & Experience): 0.81\n",
      "Validation Accuracy for Service: 0.78\n"
     ]
    }
   ],
   "source": [
    "dt_accuracies = evaluate_val_data(val_data, dt_models, targets)"
   ]
  },
  {
   "cell_type": "markdown",
   "id": "34386bf6-03d2-462b-8590-6c6801cd99f3",
   "metadata": {
    "id": "34386bf6-03d2-462b-8590-6c6801cd99f3"
   },
   "source": [
    "## KNN"
   ]
  },
  {
   "cell_type": "code",
   "execution_count": 22,
   "id": "927b6248-a4d0-4f44-b12e-5275efd0970b",
   "metadata": {
    "id": "927b6248-a4d0-4f44-b12e-5275efd0970b",
    "outputId": "6d57c6a6-5c40-4286-ac32-eddc35b47444"
   },
   "outputs": [
    {
     "name": "stdout",
     "output_type": "stream",
     "text": [
      "Accuracy for Food & Drinks Quality & Price: 0.27\n",
      "Performance for Food & Drinks Quality & Price:\n",
      "              precision    recall  f1-score   support\n",
      "\n",
      "           0       0.25      1.00      0.40       248\n",
      "           1       1.00      0.04      0.08       792\n",
      "\n",
      "    accuracy                           0.27      1040\n",
      "   macro avg       0.62      0.52      0.24      1040\n",
      "weighted avg       0.82      0.27      0.16      1040\n",
      "\n",
      "\n",
      "Accuracy for General (Ambience, Entertainment, & Experience): 0.24\n",
      "Performance for General (Ambience, Entertainment, & Experience):\n",
      "              precision    recall  f1-score   support\n",
      "\n",
      "           0       0.21      1.00      0.35       216\n",
      "           1       1.00      0.04      0.07       824\n",
      "\n",
      "    accuracy                           0.24      1040\n",
      "   macro avg       0.61      0.52      0.21      1040\n",
      "weighted avg       0.84      0.24      0.13      1040\n",
      "\n",
      "\n",
      "Accuracy for Service: 0.22\n",
      "Performance for Service:\n",
      "              precision    recall  f1-score   support\n",
      "\n",
      "           0       0.20      1.00      0.34       208\n",
      "           1       1.00      0.03      0.06       832\n",
      "\n",
      "    accuracy                           0.22      1040\n",
      "   macro avg       0.60      0.52      0.20      1040\n",
      "weighted avg       0.84      0.22      0.11      1040\n",
      "\n",
      "\n"
     ]
    }
   ],
   "source": [
    "from sklearn.neighbors import KNeighborsClassifier\n",
    "\n",
    "knn_models = train_and_evaluate_model(\n",
    "    datasets=datasets,\n",
    "    model_name='KNN',\n",
    "    model_class=KNeighborsClassifier,\n",
    "    n_neighbors=10\n",
    ")"
   ]
  },
  {
   "cell_type": "code",
   "execution_count": 23,
   "id": "d2cbdc91-1ace-4408-8b0a-f13678ab3abf",
   "metadata": {
    "id": "d2cbdc91-1ace-4408-8b0a-f13678ab3abf",
    "outputId": "31c7ec79-84a7-43f8-da92-3d4da6273d51"
   },
   "outputs": [
    {
     "name": "stdout",
     "output_type": "stream",
     "text": [
      "Validation Accuracy for Food & Drinks Quality & Price: 0.39\n",
      "Validation Accuracy for General (Ambience, Entertainment, & Experience): 0.36\n",
      "Validation Accuracy for Service: 0.28\n"
     ]
    }
   ],
   "source": [
    "knn_accuracies = evaluate_val_data(val_data, knn_models, targets)"
   ]
  },
  {
   "cell_type": "markdown",
   "id": "09caeac9-75eb-4710-bb8a-94b488fff26f",
   "metadata": {
    "id": "09caeac9-75eb-4710-bb8a-94b488fff26f"
   },
   "source": [
    "## XGBoost"
   ]
  },
  {
   "cell_type": "code",
   "execution_count": 24,
   "id": "be6e3c9b-6889-4456-b6fc-5fa33dc4284f",
   "metadata": {
    "id": "be6e3c9b-6889-4456-b6fc-5fa33dc4284f",
    "outputId": "b8f643b5-8ede-4cea-b9a6-0655a997bdea"
   },
   "outputs": [
    {
     "name": "stdout",
     "output_type": "stream",
     "text": [
      "Accuracy for Food & Drinks Quality & Price: 0.85\n",
      "Performance for Food & Drinks Quality & Price:\n",
      "              precision    recall  f1-score   support\n",
      "\n",
      "           0       0.71      0.65      0.68       248\n",
      "           1       0.89      0.92      0.90       792\n",
      "\n",
      "    accuracy                           0.85      1040\n",
      "   macro avg       0.80      0.78      0.79      1040\n",
      "weighted avg       0.85      0.85      0.85      1040\n",
      "\n",
      "\n",
      "Accuracy for General (Ambience, Entertainment, & Experience): 0.85\n",
      "Performance for General (Ambience, Entertainment, & Experience):\n",
      "              precision    recall  f1-score   support\n",
      "\n",
      "           0       0.66      0.57      0.61       216\n",
      "           1       0.89      0.92      0.91       824\n",
      "\n",
      "    accuracy                           0.85      1040\n",
      "   macro avg       0.78      0.75      0.76      1040\n",
      "weighted avg       0.84      0.85      0.85      1040\n",
      "\n",
      "\n",
      "Accuracy for Service: 0.89\n",
      "Performance for Service:\n",
      "              precision    recall  f1-score   support\n",
      "\n",
      "           0       0.72      0.70      0.71       208\n",
      "           1       0.93      0.93      0.93       832\n",
      "\n",
      "    accuracy                           0.89      1040\n",
      "   macro avg       0.82      0.82      0.82      1040\n",
      "weighted avg       0.89      0.89      0.89      1040\n",
      "\n",
      "\n"
     ]
    }
   ],
   "source": [
    "from xgboost import XGBClassifier\n",
    "\n",
    "xgb_models = train_and_evaluate_model(\n",
    "    datasets=datasets,\n",
    "    model_name='XGB',\n",
    "    model_class=XGBClassifier,\n",
    "    random_state=42\n",
    ")"
   ]
  },
  {
   "cell_type": "code",
   "execution_count": 25,
   "id": "c44e9a53-749e-404b-a1d0-25278704f498",
   "metadata": {
    "id": "c44e9a53-749e-404b-a1d0-25278704f498",
    "outputId": "43e5646b-a2e3-42f5-8ed4-cea8996c2637"
   },
   "outputs": [
    {
     "name": "stdout",
     "output_type": "stream",
     "text": [
      "Validation Accuracy for Food & Drinks Quality & Price: 0.83\n",
      "Validation Accuracy for General (Ambience, Entertainment, & Experience): 0.83\n",
      "Validation Accuracy for Service: 0.86\n"
     ]
    }
   ],
   "source": [
    "xgb_accuracies = evaluate_val_data(val_data, xgb_models, targets)"
   ]
  },
  {
   "cell_type": "markdown",
   "id": "e7774313-6728-4dbf-ab1c-288896b000ae",
   "metadata": {
    "id": "e7774313-6728-4dbf-ab1c-288896b000ae"
   },
   "source": [
    "## LightGBM"
   ]
  },
  {
   "cell_type": "code",
   "execution_count": 26,
   "id": "9aad36c0-54b0-4add-b119-71f6f83f78c1",
   "metadata": {
    "id": "9aad36c0-54b0-4add-b119-71f6f83f78c1",
    "outputId": "bc2a9feb-59b8-4e8a-c39b-a8cf1ccf6c52"
   },
   "outputs": [
    {
     "name": "stdout",
     "output_type": "stream",
     "text": [
      "[LightGBM] [Info] Number of positive: 3111, number of negative: 3111\n",
      "[LightGBM] [Info] Auto-choosing row-wise multi-threading, the overhead of testing was 0.066740 seconds.\n",
      "You can set `force_row_wise=true` to remove the overhead.\n",
      "And if memory is not enough, you can set `force_col_wise=true`.\n",
      "[LightGBM] [Info] Total Bins 93974\n",
      "[LightGBM] [Info] Number of data points in the train set: 6222, number of used features: 1973\n",
      "[LightGBM] [Info] [binary:BoostFromScore]: pavg=0.500000 -> initscore=0.000000\n",
      "Accuracy for Food & Drinks Quality & Price: 0.86\n",
      "Performance for Food & Drinks Quality & Price:\n",
      "              precision    recall  f1-score   support\n",
      "\n",
      "           0       0.71      0.67      0.69       248\n",
      "           1       0.90      0.91      0.91       792\n",
      "\n",
      "    accuracy                           0.86      1040\n",
      "   macro avg       0.80      0.79      0.80      1040\n",
      "weighted avg       0.85      0.86      0.85      1040\n",
      "\n",
      "\n",
      "[LightGBM] [Info] Number of positive: 3295, number of negative: 3295\n",
      "[LightGBM] [Info] Auto-choosing row-wise multi-threading, the overhead of testing was 0.066177 seconds.\n",
      "You can set `force_row_wise=true` to remove the overhead.\n",
      "And if memory is not enough, you can set `force_col_wise=true`.\n",
      "[LightGBM] [Info] Total Bins 109231\n",
      "[LightGBM] [Info] Number of data points in the train set: 6590, number of used features: 2227\n",
      "[LightGBM] [Info] [binary:BoostFromScore]: pavg=0.500000 -> initscore=0.000000\n",
      "Accuracy for General (Ambience, Entertainment, & Experience): 0.86\n",
      "Performance for General (Ambience, Entertainment, & Experience):\n",
      "              precision    recall  f1-score   support\n",
      "\n",
      "           0       0.70      0.60      0.65       216\n",
      "           1       0.90      0.93      0.92       824\n",
      "\n",
      "    accuracy                           0.86      1040\n",
      "   macro avg       0.80      0.77      0.78      1040\n",
      "weighted avg       0.86      0.86      0.86      1040\n",
      "\n",
      "\n",
      "[LightGBM] [Info] Number of positive: 3283, number of negative: 3283\n",
      "[LightGBM] [Info] Auto-choosing row-wise multi-threading, the overhead of testing was 0.065789 seconds.\n",
      "You can set `force_row_wise=true` to remove the overhead.\n",
      "And if memory is not enough, you can set `force_col_wise=true`.\n",
      "[LightGBM] [Info] Total Bins 109903\n",
      "[LightGBM] [Info] Number of data points in the train set: 6566, number of used features: 2210\n",
      "[LightGBM] [Info] [binary:BoostFromScore]: pavg=0.500000 -> initscore=0.000000\n",
      "Accuracy for Service: 0.90\n",
      "Performance for Service:\n",
      "              precision    recall  f1-score   support\n",
      "\n",
      "           0       0.75      0.74      0.74       208\n",
      "           1       0.93      0.94      0.94       832\n",
      "\n",
      "    accuracy                           0.90      1040\n",
      "   macro avg       0.84      0.84      0.84      1040\n",
      "weighted avg       0.90      0.90      0.90      1040\n",
      "\n",
      "\n"
     ]
    }
   ],
   "source": [
    "from lightgbm import LGBMClassifier\n",
    "\n",
    "lgbm_models = train_and_evaluate_model(\n",
    "    datasets=datasets,\n",
    "    model_name='LGBM',\n",
    "    model_class=LGBMClassifier,\n",
    "    n_estimators=100,\n",
    "    learning_rate=0.1,\n",
    "    random_state=42\n",
    ")"
   ]
  },
  {
   "cell_type": "code",
   "execution_count": 27,
   "id": "352d1553-754c-43c6-8710-8d14391097df",
   "metadata": {
    "id": "352d1553-754c-43c6-8710-8d14391097df",
    "outputId": "c69c1bf7-0576-4ad7-bedd-02034e1041d8"
   },
   "outputs": [
    {
     "name": "stdout",
     "output_type": "stream",
     "text": [
      "Validation Accuracy for Food & Drinks Quality & Price: 0.83\n",
      "Validation Accuracy for General (Ambience, Entertainment, & Experience): 0.83\n",
      "Validation Accuracy for Service: 0.83\n"
     ]
    }
   ],
   "source": [
    "lgbm_accuracies = evaluate_val_data(val_data, lgbm_models, targets)"
   ]
  },
  {
   "cell_type": "markdown",
   "id": "e6033367-54e5-41f2-9880-b2f25de448d5",
   "metadata": {
    "id": "e6033367-54e5-41f2-9880-b2f25de448d5"
   },
   "source": [
    "## CatBoost"
   ]
  },
  {
   "cell_type": "code",
   "execution_count": 28,
   "id": "c4b3daa4-7593-445e-8697-5dafac3649f0",
   "metadata": {
    "id": "c4b3daa4-7593-445e-8697-5dafac3649f0",
    "outputId": "66a99699-0f85-4fcf-bc8e-851e0e14ee91"
   },
   "outputs": [
    {
     "name": "stdout",
     "output_type": "stream",
     "text": [
      "Accuracy for Food & Drinks Quality & Price: 0.85\n",
      "Performance for Food & Drinks Quality & Price:\n",
      "              precision    recall  f1-score   support\n",
      "\n",
      "           0       0.70      0.67      0.69       248\n",
      "           1       0.90      0.91      0.91       792\n",
      "\n",
      "    accuracy                           0.85      1040\n",
      "   macro avg       0.80      0.79      0.80      1040\n",
      "weighted avg       0.85      0.85      0.85      1040\n",
      "\n",
      "\n",
      "Accuracy for General (Ambience, Entertainment, & Experience): 0.85\n",
      "Performance for General (Ambience, Entertainment, & Experience):\n",
      "              precision    recall  f1-score   support\n",
      "\n",
      "           0       0.68      0.58      0.62       216\n",
      "           1       0.89      0.93      0.91       824\n",
      "\n",
      "    accuracy                           0.85      1040\n",
      "   macro avg       0.78      0.75      0.77      1040\n",
      "weighted avg       0.85      0.85      0.85      1040\n",
      "\n",
      "\n",
      "Accuracy for Service: 0.90\n",
      "Performance for Service:\n",
      "              precision    recall  f1-score   support\n",
      "\n",
      "           0       0.76      0.70      0.73       208\n",
      "           1       0.93      0.94      0.94       832\n",
      "\n",
      "    accuracy                           0.90      1040\n",
      "   macro avg       0.84      0.82      0.83      1040\n",
      "weighted avg       0.89      0.90      0.89      1040\n",
      "\n",
      "\n"
     ]
    }
   ],
   "source": [
    "from catboost import CatBoostClassifier\n",
    "\n",
    "catboost_models = train_and_evaluate_model(\n",
    "    datasets=datasets,\n",
    "    model_name='CatBoost',\n",
    "    model_class=CatBoostClassifier,\n",
    "    iterations=500,\n",
    "    learning_rate=0.1,\n",
    "    depth=6,\n",
    "    verbose=0,\n",
    "    random_seed=42\n",
    ")"
   ]
  },
  {
   "cell_type": "code",
   "execution_count": 29,
   "id": "741e670c-9bc0-4ebe-a718-5874fcf31f2c",
   "metadata": {
    "id": "741e670c-9bc0-4ebe-a718-5874fcf31f2c",
    "outputId": "43c0d9a2-85c2-4477-e8ff-5497a8daeb88"
   },
   "outputs": [
    {
     "name": "stdout",
     "output_type": "stream",
     "text": [
      "Validation Accuracy for Food & Drinks Quality & Price: 0.83\n",
      "Validation Accuracy for General (Ambience, Entertainment, & Experience): 0.83\n",
      "Validation Accuracy for Service: 0.86\n"
     ]
    }
   ],
   "source": [
    "catboost_accuracies = evaluate_val_data(val_data, catboost_models, targets)"
   ]
  }
 ],
 "metadata": {
  "colab": {
   "provenance": []
  },
  "kernelspec": {
   "display_name": "Python 3 (ipykernel)",
   "language": "python",
   "name": "python3"
  },
  "language_info": {
   "codemirror_mode": {
    "name": "ipython",
    "version": 3
   },
   "file_extension": ".py",
   "mimetype": "text/x-python",
   "name": "python",
   "nbconvert_exporter": "python",
   "pygments_lexer": "ipython3",
   "version": "3.12.1"
  }
 },
 "nbformat": 4,
 "nbformat_minor": 5
}
