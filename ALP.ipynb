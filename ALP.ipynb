{
  "cells": [
    {
      "cell_type": "markdown",
      "id": "6863d293-d14b-4f43-b022-afc2984a083d",
      "metadata": {
        "id": "6863d293-d14b-4f43-b022-afc2984a083d"
      },
      "source": [
        "# Restaurant Review Classification Based on 3 Aspect"
      ]
    },
    {
      "cell_type": "markdown",
      "id": "4b4a96d3-c441-4ae6-9038-5a07d15e7523",
      "metadata": {
        "id": "4b4a96d3-c441-4ae6-9038-5a07d15e7523"
      },
      "source": [
        "Micheila Jiemesha - 0706012110032\n",
        "<br>Marsha Alexis Likorawung - 0706012110034\n",
        "<br>Michelle Swastika Bianglala Nusantara - 0706012110002\n",
        "<br>Rifqie Tilqa Reamizard - 0706012110025"
      ]
    },
    {
      "cell_type": "code",
      "execution_count": null,
      "id": "62e772ff-e15d-4f97-b06e-6d6dbff826c9",
      "metadata": {
        "id": "62e772ff-e15d-4f97-b06e-6d6dbff826c9"
      },
      "outputs": [],
      "source": [
        "import pandas as pd\n",
        "import numpy as np\n",
        "from sklearn.model_selection import train_test_split\n",
        "from sklearn.feature_extraction.text import TfidfVectorizer\n",
        "from sklearn.metrics import classification_report, accuracy_score\n",
        "import joblib\n",
        "import re\n",
        "from nltk.corpus import stopwords"
      ]
    },
    {
      "cell_type": "code",
      "execution_count": null,
      "id": "d773eb02-9cc7-4435-b02b-05f4afc32f04",
      "metadata": {
        "id": "d773eb02-9cc7-4435-b02b-05f4afc32f04"
      },
      "outputs": [],
      "source": [
        "data = pd.read_csv('restaurant_reviews_labelled.csv')"
      ]
    },
    {
      "cell_type": "code",
      "execution_count": null,
      "id": "ecd67817-8150-4338-b898-59c794087440",
      "metadata": {
        "id": "ecd67817-8150-4338-b898-59c794087440"
      },
      "outputs": [],
      "source": [
        "def preprocess_text(text):\n",
        "    stop_words = set(stopwords.words('english'))\n",
        "    text = re.sub(r'\\W', ' ', text)\n",
        "    text = text.lower()\n",
        "    text = re.sub(r'\\s+', ' ', text)\n",
        "    text = ' '.join([word for word in text.split() if word not in stop_words])\n",
        "    return text"
      ]
    },
    {
      "cell_type": "code",
      "execution_count": null,
      "id": "2b56fe37-8c87-4744-be2e-facac87c1d69",
      "metadata": {
        "id": "2b56fe37-8c87-4744-be2e-facac87c1d69"
      },
      "outputs": [],
      "source": [
        "data['Review'] = data['Review'].apply(preprocess_text)"
      ]
    },
    {
      "cell_type": "code",
      "execution_count": null,
      "id": "5b41aa5e-c52d-42f4-8ba3-a65682c82a6b",
      "metadata": {
        "id": "5b41aa5e-c52d-42f4-8ba3-a65682c82a6b"
      },
      "outputs": [],
      "source": [
        "data.to_csv('restaurant_reviews_preprocessed.csv', index=False)"
      ]
    },
    {
      "cell_type": "code",
      "execution_count": null,
      "id": "1d22de8d-f5c0-4663-b2e8-807a24c7483f",
      "metadata": {
        "id": "1d22de8d-f5c0-4663-b2e8-807a24c7483f"
      },
      "outputs": [],
      "source": [
        "targets = ['Food & Drinks Quality & Price', 'General (Ambience, Entertainment, & Experience)', 'Service']\n",
        "for target in targets:\n",
        "    data[target] = data[target].fillna('Neutral')\n",
        "datasets = {}"
      ]
    },
    {
      "cell_type": "code",
      "execution_count": null,
      "id": "62ed1d8d-2192-47d9-a0d3-bd29ae3ef97d",
      "metadata": {
        "id": "62ed1d8d-2192-47d9-a0d3-bd29ae3ef97d",
        "outputId": "cb062222-b4af-4ea4-d117-14427c6f5dec"
      },
      "outputs": [
        {
          "data": {
            "text/plain": [
              "Food & Drinks Quality & Price\n",
              "Good       3405\n",
              "Bad        1307\n",
              "Neutral     524\n",
              "Name: count, dtype: int64"
            ]
          },
          "execution_count": 8,
          "metadata": {},
          "output_type": "execute_result"
        }
      ],
      "source": [
        "data[targets[0]].value_counts()"
      ]
    },
    {
      "cell_type": "code",
      "execution_count": null,
      "id": "d925e2a0-fb62-4af6-9e4c-aa98459b2eaa",
      "metadata": {
        "id": "d925e2a0-fb62-4af6-9e4c-aa98459b2eaa",
        "outputId": "7ef95426-5bcc-4576-e91f-d3982b9f3ede"
      },
      "outputs": [
        {
          "data": {
            "text/plain": [
              "General (Ambience, Entertainment, & Experience)\n",
              "Good       2760\n",
              "Neutral    1384\n",
              "Bad        1092\n",
              "Name: count, dtype: int64"
            ]
          },
          "execution_count": 9,
          "metadata": {},
          "output_type": "execute_result"
        }
      ],
      "source": [
        "data[targets[1]].value_counts()"
      ]
    },
    {
      "cell_type": "code",
      "execution_count": null,
      "id": "af9d199a-eb88-4de7-a913-b41c691b1147",
      "metadata": {
        "id": "af9d199a-eb88-4de7-a913-b41c691b1147",
        "outputId": "b7bd9492-d7ac-4cd8-d36d-6e198f1da75b"
      },
      "outputs": [
        {
          "data": {
            "text/plain": [
              "Service\n",
              "Good       2594\n",
              "Neutral    1550\n",
              "Bad        1092\n",
              "Name: count, dtype: int64"
            ]
          },
          "execution_count": 10,
          "metadata": {},
          "output_type": "execute_result"
        }
      ],
      "source": [
        "data[targets[2]].value_counts()"
      ]
    },
    {
      "cell_type": "code",
      "execution_count": null,
      "id": "a9a7b882-661c-42df-9f8f-9475edd6d5dc",
      "metadata": {
        "id": "a9a7b882-661c-42df-9f8f-9475edd6d5dc"
      },
      "outputs": [],
      "source": [
        "#for target in targets:\n",
        "  #  filtered_data = data[['Review', target]].dropna(subset=[target])\n",
        "   # datasets[target] = filtered_data\n",
        "\n",
        "datasets = {}\n",
        "for target in targets:\n",
        "    filtered_data = data[['Review', target]]\n",
        "    datasets[target] = filtered_data"
      ]
    },
    {
      "cell_type": "code",
      "execution_count": null,
      "id": "024198e8-80d9-4fbb-a1aa-47361654b828",
      "metadata": {
        "id": "024198e8-80d9-4fbb-a1aa-47361654b828"
      },
      "outputs": [],
      "source": [
        "from imblearn.over_sampling import SMOTE\n",
        "from sklearn.model_selection import train_test_split\n",
        "from sklearn.feature_extraction.text import TfidfVectorizer\n",
        "from sklearn.metrics import accuracy_score, classification_report\n",
        "import joblib\n",
        "\n",
        "def train_and_evaluate_model(datasets, model_class, **model_params):\n",
        "    models = {}\n",
        "\n",
        "    for target, dataset in datasets.items():\n",
        "        X = dataset['Review']\n",
        "        y = dataset[target].map({'Good': 2, 'Neutral': 1, 'Bad': 0})\n",
        "\n",
        "        X_train, X_test, y_train, y_test = train_test_split(X, y, test_size=0.2, random_state=42)\n",
        "\n",
        "        vectorizer = TfidfVectorizer(max_features=5000)\n",
        "        X_train_vec = vectorizer.fit_transform(X_train)\n",
        "        X_test_vec = vectorizer.transform(X_test)\n",
        "\n",
        "        # Modify SMOTE for multi-class\n",
        "        smote = SMOTE(random_state=42)\n",
        "        X_train_resampled, y_train_resampled = smote.fit_resample(X_train_vec, y_train)\n",
        "\n",
        "        model = model_class(**model_params)\n",
        "        model.fit(X_train_resampled, y_train_resampled)\n",
        "\n",
        "        y_pred = model.predict(X_test_vec)\n",
        "        accuracy = accuracy_score(y_test, y_pred)\n",
        "        print(f'Accuracy for {target}: {accuracy:.2f}')\n",
        "        print(f'Performance for {target}:')\n",
        "        print(classification_report(y_test, y_pred))\n",
        "\n",
        "        joblib.dump(model, f'{target}_model.pkl')\n",
        "        joblib.dump(vectorizer, f'{target}_vectorizer.pkl')\n",
        "        models[target] = (model, vectorizer)\n",
        "        print()\n",
        "\n",
        "    return models"
      ]
    },
    {
      "cell_type": "code",
      "execution_count": null,
      "id": "be2423c1-8695-49cd-a629-172e8faf8280",
      "metadata": {
        "id": "be2423c1-8695-49cd-a629-172e8faf8280"
      },
      "outputs": [],
      "source": [
        "def predict_review(review, models):\n",
        "    predictions = {}\n",
        "\n",
        "    for target in models:\n",
        "        model, vectorizer = models[target]\n",
        "        review_vec = vectorizer.transform([review])\n",
        "        prediction = model.predict(review_vec)[0]\n",
        "\n",
        "        predictions[target] = {\n",
        "            2: 'Good',\n",
        "            1: 'Neutral',\n",
        "            0: 'Bad'\n",
        "        }[prediction]\n",
        "\n",
        "    return predictions\n"
      ]
    },
    {
      "cell_type": "markdown",
      "id": "ff1c52ec-3356-4af3-99d6-e31311629b70",
      "metadata": {
        "id": "ff1c52ec-3356-4af3-99d6-e31311629b70"
      },
      "source": [
        "## Logistic Regression"
      ]
    },
    {
      "cell_type": "code",
      "execution_count": null,
      "id": "d8800ca7-c323-4e72-9cea-cdb3925edf92",
      "metadata": {
        "id": "d8800ca7-c323-4e72-9cea-cdb3925edf92",
        "outputId": "276d44d4-a814-4e88-bd2c-cba959956a0a"
      },
      "outputs": [
        {
          "name": "stdout",
          "output_type": "stream",
          "text": [
            "Accuracy for Food & Drinks Quality & Price: 0.79\n",
            "Performance for Food & Drinks Quality & Price:\n",
            "              precision    recall  f1-score   support\n",
            "\n",
            "           0       0.75      0.78      0.76       251\n",
            "           1       0.36      0.43      0.39       109\n",
            "           2       0.90      0.86      0.88       688\n",
            "\n",
            "    accuracy                           0.79      1048\n",
            "   macro avg       0.67      0.69      0.68      1048\n",
            "weighted avg       0.81      0.79      0.80      1048\n",
            "\n",
            "\n",
            "Accuracy for General (Ambience, Entertainment, & Experience): 0.70\n",
            "Performance for General (Ambience, Entertainment, & Experience):\n",
            "              precision    recall  f1-score   support\n",
            "\n",
            "           0       0.65      0.70      0.67       222\n",
            "           1       0.55      0.57      0.56       268\n",
            "           2       0.80      0.76      0.78       558\n",
            "\n",
            "    accuracy                           0.70      1048\n",
            "   macro avg       0.67      0.68      0.67      1048\n",
            "weighted avg       0.70      0.70      0.70      1048\n",
            "\n",
            "\n",
            "Accuracy for Service: 0.80\n",
            "Performance for Service:\n",
            "              precision    recall  f1-score   support\n",
            "\n",
            "           0       0.73      0.79      0.76       204\n",
            "           1       0.69      0.77      0.73       294\n",
            "           2       0.90      0.81      0.85       550\n",
            "\n",
            "    accuracy                           0.80      1048\n",
            "   macro avg       0.77      0.79      0.78      1048\n",
            "weighted avg       0.81      0.80      0.80      1048\n",
            "\n",
            "\n"
          ]
        }
      ],
      "source": [
        "from sklearn.linear_model import LogisticRegression\n",
        "\n",
        "lr_models = train_and_evaluate_model(\n",
        "    datasets=datasets,\n",
        "    model_class=LogisticRegression,\n",
        "    max_iter=1000,\n",
        "    random_state=42\n",
        ")"
      ]
    },
    {
      "cell_type": "code",
      "execution_count": null,
      "id": "28b1b05f-c233-4b6c-a3bd-8210092e44ef",
      "metadata": {
        "id": "28b1b05f-c233-4b6c-a3bd-8210092e44ef",
        "outputId": "15c6c336-031c-4dac-d845-b5d260f1cd17"
      },
      "outputs": [
        {
          "name": "stdout",
          "output_type": "stream",
          "text": [
            "{'Food & Drinks Quality & Price': 'Neutral', 'General (Ambience, Entertainment, & Experience)': 'Bad', 'Service': 'Bad'}\n"
          ]
        }
      ],
      "source": [
        "test_review = \"We had a 5PM reservation on Saturday and arrived at 4:54. We were told seating began at 5PM and were asked to wait. Ten minutes later, we were still standing along with a minimum 50 others in a very small and increasingly crowded entryway and no one was being seated, although 4 hosts/hostesses talked among themselves standing idly behind the reception desk. Progress was not evident. We had a 7PM concert, so we left and were happily accommodated elsewhere.\"\n",
        "\n",
        "print(predict_review(test_review, lr_models))"
      ]
    },
    {
      "cell_type": "markdown",
      "id": "e743d90d-fe37-406d-8bcb-be24b602a716",
      "metadata": {
        "id": "e743d90d-fe37-406d-8bcb-be24b602a716"
      },
      "source": [
        "## Random Forest"
      ]
    },
    {
      "cell_type": "code",
      "execution_count": null,
      "id": "ff9e512a-baf6-4935-a098-e603d5441742",
      "metadata": {
        "id": "ff9e512a-baf6-4935-a098-e603d5441742",
        "outputId": "63dec5d2-ddb4-4ba4-8fcb-6b0df70bcef7"
      },
      "outputs": [
        {
          "name": "stdout",
          "output_type": "stream",
          "text": [
            "Accuracy for Food & Drinks Quality & Price: 0.77\n",
            "Performance for Food & Drinks Quality & Price:\n",
            "              precision    recall  f1-score   support\n",
            "\n",
            "           0       0.67      0.69      0.68       251\n",
            "           1       0.10      0.01      0.02       109\n",
            "           2       0.81      0.92      0.86       688\n",
            "\n",
            "    accuracy                           0.77      1048\n",
            "   macro avg       0.53      0.54      0.52      1048\n",
            "weighted avg       0.70      0.77      0.73      1048\n",
            "\n",
            "\n",
            "Accuracy for General (Ambience, Entertainment, & Experience): 0.66\n",
            "Performance for General (Ambience, Entertainment, & Experience):\n",
            "              precision    recall  f1-score   support\n",
            "\n",
            "           0       0.60      0.51      0.55       222\n",
            "           1       0.56      0.54      0.55       268\n",
            "           2       0.73      0.78      0.75       558\n",
            "\n",
            "    accuracy                           0.66      1048\n",
            "   macro avg       0.63      0.61      0.62      1048\n",
            "weighted avg       0.66      0.66      0.66      1048\n",
            "\n",
            "\n",
            "Accuracy for Service: 0.80\n",
            "Performance for Service:\n",
            "              precision    recall  f1-score   support\n",
            "\n",
            "           0       0.70      0.70      0.70       204\n",
            "           1       0.78      0.76      0.77       294\n",
            "           2       0.84      0.85      0.85       550\n",
            "\n",
            "    accuracy                           0.80      1048\n",
            "   macro avg       0.77      0.77      0.77      1048\n",
            "weighted avg       0.80      0.80      0.80      1048\n",
            "\n",
            "\n"
          ]
        }
      ],
      "source": [
        "from sklearn.ensemble import RandomForestClassifier\n",
        "\n",
        "rf_models = train_and_evaluate_model(\n",
        "    datasets=datasets,\n",
        "    model_class=RandomForestClassifier,\n",
        "    n_estimators=100,\n",
        "    random_state=42\n",
        ")"
      ]
    },
    {
      "cell_type": "code",
      "execution_count": null,
      "id": "f51102f0-3322-43f4-bf80-7ab17bd67468",
      "metadata": {
        "id": "f51102f0-3322-43f4-bf80-7ab17bd67468",
        "outputId": "23dd3e8b-816b-4160-89f9-8d61e0a9afaf"
      },
      "outputs": [
        {
          "name": "stdout",
          "output_type": "stream",
          "text": [
            "{'Food & Drinks Quality & Price': 'Good', 'General (Ambience, Entertainment, & Experience)': 'Neutral', 'Service': 'Bad'}\n"
          ]
        }
      ],
      "source": [
        "test_review = \"We had a 5PM reservation on Saturday and arrived at 4:54. We were told seating began at 5PM and were asked to wait. Ten minutes later, we were still standing along with a minimum 50 others in a very small and increasingly crowded entryway and no one was being seated, although 4 hosts/hostesses talked among themselves standing idly behind the reception desk. Progress was not evident. We had a 7PM concert, so we left and were happily accommodated elsewhere.\"\n",
        "\n",
        "print(predict_review(test_review, rf_models))"
      ]
    },
    {
      "cell_type": "markdown",
      "id": "4c72a419-3f42-4d2d-951c-be530e51ce9a",
      "metadata": {
        "id": "4c72a419-3f42-4d2d-951c-be530e51ce9a"
      },
      "source": [
        "## Decision Tree"
      ]
    },
    {
      "cell_type": "code",
      "execution_count": null,
      "id": "f6045a7f-ab7f-4b60-ac44-670c02c2c4df",
      "metadata": {
        "id": "f6045a7f-ab7f-4b60-ac44-670c02c2c4df",
        "outputId": "d225f068-ad26-407c-9d8e-dba62b1f5604"
      },
      "outputs": [
        {
          "name": "stdout",
          "output_type": "stream",
          "text": [
            "Accuracy for Food & Drinks Quality & Price: 0.67\n",
            "Performance for Food & Drinks Quality & Price:\n",
            "              precision    recall  f1-score   support\n",
            "\n",
            "           0       0.55      0.57      0.56       251\n",
            "           1       0.24      0.32      0.27       109\n",
            "           2       0.81      0.76      0.78       688\n",
            "\n",
            "    accuracy                           0.67      1048\n",
            "   macro avg       0.53      0.55      0.54      1048\n",
            "weighted avg       0.69      0.67      0.68      1048\n",
            "\n",
            "\n",
            "Accuracy for General (Ambience, Entertainment, & Experience): 0.57\n",
            "Performance for General (Ambience, Entertainment, & Experience):\n",
            "              precision    recall  f1-score   support\n",
            "\n",
            "           0       0.48      0.51      0.50       222\n",
            "           1       0.42      0.51      0.46       268\n",
            "           2       0.71      0.62      0.66       558\n",
            "\n",
            "    accuracy                           0.57      1048\n",
            "   macro avg       0.54      0.55      0.54      1048\n",
            "weighted avg       0.59      0.57      0.58      1048\n",
            "\n",
            "\n",
            "Accuracy for Service: 0.71\n",
            "Performance for Service:\n",
            "              precision    recall  f1-score   support\n",
            "\n",
            "           0       0.51      0.52      0.52       204\n",
            "           1       0.71      0.76      0.73       294\n",
            "           2       0.80      0.76      0.78       550\n",
            "\n",
            "    accuracy                           0.71      1048\n",
            "   macro avg       0.67      0.68      0.68      1048\n",
            "weighted avg       0.72      0.71      0.72      1048\n",
            "\n",
            "\n"
          ]
        }
      ],
      "source": [
        "from sklearn.tree import DecisionTreeClassifier\n",
        "\n",
        "dt_models = train_and_evaluate_model(\n",
        "    datasets=datasets,\n",
        "    model_class=DecisionTreeClassifier,\n",
        "    max_depth=None,\n",
        "    random_state=42\n",
        ")"
      ]
    },
    {
      "cell_type": "code",
      "execution_count": null,
      "id": "0b761459-1fa7-48ad-8e8e-169eb43bd0f7",
      "metadata": {
        "id": "0b761459-1fa7-48ad-8e8e-169eb43bd0f7",
        "outputId": "061a1d03-2af9-442a-86dd-b8031324bdbe"
      },
      "outputs": [
        {
          "name": "stdout",
          "output_type": "stream",
          "text": [
            "{'Food & Drinks Quality & Price': 'Neutral', 'General (Ambience, Entertainment, & Experience)': 'Bad', 'Service': 'Good'}\n"
          ]
        }
      ],
      "source": [
        "test_review = \"We had a 5PM reservation on Saturday and arrived at 4:54. We were told seating began at 5PM and were asked to wait. Ten minutes later, we were still standing along with a minimum 50 others in a very small and increasingly crowded entryway and no one was being seated, although 4 hosts/hostesses talked among themselves standing idly behind the reception desk. Progress was not evident. We had a 7PM concert, so we left and were happily accommodated elsewhere.\"\n",
        "\n",
        "print(predict_review(test_review, dt_models))"
      ]
    },
    {
      "cell_type": "markdown",
      "id": "34386bf6-03d2-462b-8590-6c6801cd99f3",
      "metadata": {
        "id": "34386bf6-03d2-462b-8590-6c6801cd99f3"
      },
      "source": [
        "## KNN"
      ]
    },
    {
      "cell_type": "code",
      "execution_count": null,
      "id": "927b6248-a4d0-4f44-b12e-5275efd0970b",
      "metadata": {
        "id": "927b6248-a4d0-4f44-b12e-5275efd0970b",
        "outputId": "6d57c6a6-5c40-4286-ac32-eddc35b47444"
      },
      "outputs": [
        {
          "name": "stdout",
          "output_type": "stream",
          "text": [
            "Accuracy for Food & Drinks Quality & Price: 0.24\n",
            "Performance for Food & Drinks Quality & Price:\n",
            "              precision    recall  f1-score   support\n",
            "\n",
            "           0       0.44      0.64      0.52       251\n",
            "           1       0.12      0.74      0.21       109\n",
            "           2       1.00      0.01      0.02       688\n",
            "\n",
            "    accuracy                           0.24      1048\n",
            "   macro avg       0.52      0.46      0.25      1048\n",
            "weighted avg       0.77      0.24      0.16      1048\n",
            "\n",
            "\n",
            "Accuracy for General (Ambience, Entertainment, & Experience): 0.32\n",
            "Performance for General (Ambience, Entertainment, & Experience):\n",
            "              precision    recall  f1-score   support\n",
            "\n",
            "           0       0.34      0.84      0.49       222\n",
            "           1       0.31      0.57      0.40       268\n",
            "           2       0.33      0.00      0.00       558\n",
            "\n",
            "    accuracy                           0.32      1048\n",
            "   macro avg       0.33      0.47      0.30      1048\n",
            "weighted avg       0.33      0.32      0.21      1048\n",
            "\n",
            "\n",
            "Accuracy for Service: 0.33\n",
            "Performance for Service:\n",
            "              precision    recall  f1-score   support\n",
            "\n",
            "           0       0.32      0.88      0.47       204\n",
            "           1       0.33      0.53      0.41       294\n",
            "           2       1.00      0.02      0.04       550\n",
            "\n",
            "    accuracy                           0.33      1048\n",
            "   macro avg       0.55      0.48      0.30      1048\n",
            "weighted avg       0.68      0.33      0.22      1048\n",
            "\n",
            "\n"
          ]
        }
      ],
      "source": [
        "from sklearn.neighbors import KNeighborsClassifier\n",
        "\n",
        "knn_models = train_and_evaluate_model(\n",
        "    datasets=datasets,\n",
        "    model_class=KNeighborsClassifier,\n",
        "    n_neighbors=10\n",
        ")"
      ]
    },
    {
      "cell_type": "code",
      "execution_count": null,
      "id": "d2cbdc91-1ace-4408-8b0a-f13678ab3abf",
      "metadata": {
        "id": "d2cbdc91-1ace-4408-8b0a-f13678ab3abf",
        "outputId": "31c7ec79-84a7-43f8-da92-3d4da6273d51"
      },
      "outputs": [
        {
          "name": "stdout",
          "output_type": "stream",
          "text": [
            "{'Food & Drinks Quality & Price': 'Neutral', 'General (Ambience, Entertainment, & Experience)': 'Bad', 'Service': 'Bad'}\n"
          ]
        }
      ],
      "source": [
        "test_review = \"We had a 5PM reservation on Saturday and arrived at 4:54. We were told seating began at 5PM and were asked to wait. Ten minutes later, we were still standing along with a minimum 50 others in a very small and increasingly crowded entryway and no one was being seated, although 4 hosts/hostesses talked among themselves standing idly behind the reception desk. Progress was not evident. We had a 7PM concert, so we left and were happily accommodated elsewhere.\"\n",
        "\n",
        "print(predict_review(test_review, knn_models))"
      ]
    },
    {
      "cell_type": "markdown",
      "id": "09caeac9-75eb-4710-bb8a-94b488fff26f",
      "metadata": {
        "id": "09caeac9-75eb-4710-bb8a-94b488fff26f"
      },
      "source": [
        "## XGBoost"
      ]
    },
    {
      "cell_type": "code",
      "execution_count": null,
      "id": "be6e3c9b-6889-4456-b6fc-5fa33dc4284f",
      "metadata": {
        "id": "be6e3c9b-6889-4456-b6fc-5fa33dc4284f",
        "outputId": "b8f643b5-8ede-4cea-b9a6-0655a997bdea"
      },
      "outputs": [
        {
          "name": "stdout",
          "output_type": "stream",
          "text": [
            "Accuracy for Food & Drinks Quality & Price: 0.78\n",
            "Performance for Food & Drinks Quality & Price:\n",
            "              precision    recall  f1-score   support\n",
            "\n",
            "           0       0.72      0.71      0.72       251\n",
            "           1       0.32      0.19      0.24       109\n",
            "           2       0.84      0.90      0.87       688\n",
            "\n",
            "    accuracy                           0.78      1048\n",
            "   macro avg       0.63      0.60      0.61      1048\n",
            "weighted avg       0.76      0.78      0.77      1048\n",
            "\n",
            "\n",
            "Accuracy for General (Ambience, Entertainment, & Experience): 0.67\n",
            "Performance for General (Ambience, Entertainment, & Experience):\n",
            "              precision    recall  f1-score   support\n",
            "\n",
            "           0       0.65      0.59      0.62       222\n",
            "           1       0.51      0.60      0.55       268\n",
            "           2       0.77      0.74      0.76       558\n",
            "\n",
            "    accuracy                           0.67      1048\n",
            "   macro avg       0.65      0.64      0.64      1048\n",
            "weighted avg       0.68      0.67      0.67      1048\n",
            "\n",
            "\n",
            "Accuracy for Service: 0.83\n",
            "Performance for Service:\n",
            "              precision    recall  f1-score   support\n",
            "\n",
            "           0       0.72      0.73      0.73       204\n",
            "           1       0.78      0.84      0.81       294\n",
            "           2       0.89      0.85      0.87       550\n",
            "\n",
            "    accuracy                           0.83      1048\n",
            "   macro avg       0.80      0.81      0.80      1048\n",
            "weighted avg       0.83      0.83      0.83      1048\n",
            "\n",
            "\n"
          ]
        }
      ],
      "source": [
        "from xgboost import XGBClassifier\n",
        "\n",
        "xgb_models = train_and_evaluate_model(\n",
        "    datasets=datasets,\n",
        "    model_class=XGBClassifier,\n",
        "    eval_metric='logloss',\n",
        "    random_state=42\n",
        ")"
      ]
    },
    {
      "cell_type": "code",
      "execution_count": null,
      "id": "c44e9a53-749e-404b-a1d0-25278704f498",
      "metadata": {
        "id": "c44e9a53-749e-404b-a1d0-25278704f498",
        "outputId": "43e5646b-a2e3-42f5-8ed4-cea8996c2637"
      },
      "outputs": [
        {
          "name": "stdout",
          "output_type": "stream",
          "text": [
            "{'Food & Drinks Quality & Price': 'Good', 'General (Ambience, Entertainment, & Experience)': 'Bad', 'Service': 'Bad'}\n"
          ]
        }
      ],
      "source": [
        "test_review = \"We had a 5PM reservation on Saturday and arrived at 4:54. We were told seating began at 5PM and were asked to wait. Ten minutes later, we were still standing along with a minimum 50 others in a very small and increasingly crowded entryway and no one was being seated, although 4 hosts/hostesses talked among themselves standing idly behind the reception desk. Progress was not evident. We had a 7PM concert, so we left and were happily accommodated elsewhere.\"\n",
        "\n",
        "print(predict_review(test_review, xgb_models))"
      ]
    },
    {
      "cell_type": "markdown",
      "id": "e7774313-6728-4dbf-ab1c-288896b000ae",
      "metadata": {
        "id": "e7774313-6728-4dbf-ab1c-288896b000ae"
      },
      "source": [
        "## LightGBM"
      ]
    },
    {
      "cell_type": "code",
      "execution_count": null,
      "id": "9aad36c0-54b0-4add-b119-71f6f83f78c1",
      "metadata": {
        "id": "9aad36c0-54b0-4add-b119-71f6f83f78c1",
        "outputId": "bc2a9feb-59b8-4e8a-c39b-a8cf1ccf6c52"
      },
      "outputs": [
        {
          "name": "stdout",
          "output_type": "stream",
          "text": [
            "[LightGBM] [Info] Auto-choosing row-wise multi-threading, the overhead of testing was 0.081703 seconds.\n",
            "You can set `force_row_wise=true` to remove the overhead.\n",
            "And if memory is not enough, you can set `force_col_wise=true`.\n",
            "[LightGBM] [Info] Total Bins 130654\n",
            "[LightGBM] [Info] Number of data points in the train set: 8151, number of used features: 2786\n",
            "[LightGBM] [Info] Start training from score -1.098612\n",
            "[LightGBM] [Info] Start training from score -1.098612\n",
            "[LightGBM] [Info] Start training from score -1.098612\n",
            "Accuracy for Food & Drinks Quality & Price: 0.79\n",
            "Performance for Food & Drinks Quality & Price:\n",
            "              precision    recall  f1-score   support\n",
            "\n",
            "           0       0.73      0.72      0.72       251\n",
            "           1       0.33      0.24      0.28       109\n",
            "           2       0.86      0.90      0.88       688\n",
            "\n",
            "    accuracy                           0.79      1048\n",
            "   macro avg       0.64      0.62      0.63      1048\n",
            "weighted avg       0.77      0.79      0.78      1048\n",
            "\n",
            "\n",
            "[LightGBM] [Info] Auto-choosing col-wise multi-threading, the overhead of testing was 0.068864 seconds.\n",
            "You can set `force_col_wise=true` to remove the overhead.\n",
            "[LightGBM] [Info] Total Bins 96616\n",
            "[LightGBM] [Info] Number of data points in the train set: 6606, number of used features: 2291\n",
            "[LightGBM] [Info] Start training from score -1.098612\n",
            "[LightGBM] [Info] Start training from score -1.098612\n",
            "[LightGBM] [Info] Start training from score -1.098612\n",
            "Accuracy for General (Ambience, Entertainment, & Experience): 0.69\n",
            "Performance for General (Ambience, Entertainment, & Experience):\n",
            "              precision    recall  f1-score   support\n",
            "\n",
            "           0       0.67      0.62      0.64       222\n",
            "           1       0.53      0.62      0.57       268\n",
            "           2       0.79      0.75      0.77       558\n",
            "\n",
            "    accuracy                           0.69      1048\n",
            "   macro avg       0.66      0.66      0.66      1048\n",
            "weighted avg       0.70      0.69      0.69      1048\n",
            "\n",
            "\n",
            "[LightGBM] [Info] Auto-choosing row-wise multi-threading, the overhead of testing was 0.065726 seconds.\n",
            "You can set `force_row_wise=true` to remove the overhead.\n",
            "And if memory is not enough, you can set `force_col_wise=true`.\n",
            "[LightGBM] [Info] Total Bins 92156\n",
            "[LightGBM] [Info] Number of data points in the train set: 6132, number of used features: 2214\n",
            "[LightGBM] [Info] Start training from score -1.098612\n",
            "[LightGBM] [Info] Start training from score -1.098612\n",
            "[LightGBM] [Info] Start training from score -1.098612\n",
            "Accuracy for Service: 0.83\n",
            "Performance for Service:\n",
            "              precision    recall  f1-score   support\n",
            "\n",
            "           0       0.75      0.75      0.75       204\n",
            "           1       0.80      0.83      0.81       294\n",
            "           2       0.89      0.87      0.88       550\n",
            "\n",
            "    accuracy                           0.83      1048\n",
            "   macro avg       0.81      0.82      0.81      1048\n",
            "weighted avg       0.84      0.83      0.84      1048\n",
            "\n",
            "\n"
          ]
        }
      ],
      "source": [
        "from lightgbm import LGBMClassifier\n",
        "\n",
        "lgbm_models = train_and_evaluate_model(\n",
        "    datasets=datasets,\n",
        "    model_class=LGBMClassifier,\n",
        "    boosting_type='gbdt',\n",
        "    n_estimators=100,\n",
        "    learning_rate=0.1,\n",
        "    max_depth=-1,\n",
        "    random_state=42\n",
        ")"
      ]
    },
    {
      "cell_type": "code",
      "execution_count": null,
      "id": "352d1553-754c-43c6-8710-8d14391097df",
      "metadata": {
        "id": "352d1553-754c-43c6-8710-8d14391097df",
        "outputId": "c69c1bf7-0576-4ad7-bedd-02034e1041d8"
      },
      "outputs": [
        {
          "name": "stdout",
          "output_type": "stream",
          "text": [
            "{'Food & Drinks Quality & Price': 'Good', 'General (Ambience, Entertainment, & Experience)': 'Neutral', 'Service': 'Bad'}\n"
          ]
        }
      ],
      "source": [
        "test_review = \"We had a 5PM reservation on Saturday and arrived at 4:54. We were told seating began at 5PM and were asked to wait. Ten minutes later, we were still standing along with a minimum 50 others in a very small and increasingly crowded entryway and no one was being seated, although 4 hosts/hostesses talked among themselves standing idly behind the reception desk. Progress was not evident. We had a 7PM concert, so we left and were happily accommodated elsewhere.\"\n",
        "\n",
        "print(predict_review(test_review, lgbm_models))"
      ]
    },
    {
      "cell_type": "markdown",
      "id": "e6033367-54e5-41f2-9880-b2f25de448d5",
      "metadata": {
        "id": "e6033367-54e5-41f2-9880-b2f25de448d5"
      },
      "source": [
        "## CatBoost"
      ]
    },
    {
      "cell_type": "code",
      "execution_count": null,
      "id": "c4b3daa4-7593-445e-8697-5dafac3649f0",
      "metadata": {
        "id": "c4b3daa4-7593-445e-8697-5dafac3649f0",
        "outputId": "66a99699-0f85-4fcf-bc8e-851e0e14ee91"
      },
      "outputs": [
        {
          "name": "stdout",
          "output_type": "stream",
          "text": [
            "Accuracy for Food & Drinks Quality & Price: 0.77\n",
            "Performance for Food & Drinks Quality & Price:\n",
            "              precision    recall  f1-score   support\n",
            "\n",
            "           0       0.72      0.67      0.70       251\n",
            "           1       0.29      0.22      0.25       109\n",
            "           2       0.84      0.89      0.87       688\n",
            "\n",
            "    accuracy                           0.77      1048\n",
            "   macro avg       0.62      0.59      0.60      1048\n",
            "weighted avg       0.75      0.77      0.76      1048\n",
            "\n",
            "\n",
            "Accuracy for General (Ambience, Entertainment, & Experience): 0.68\n",
            "Performance for General (Ambience, Entertainment, & Experience):\n",
            "              precision    recall  f1-score   support\n",
            "\n",
            "           0       0.70      0.59      0.64       222\n",
            "           1       0.51      0.69      0.59       268\n",
            "           2       0.81      0.72      0.76       558\n",
            "\n",
            "    accuracy                           0.68      1048\n",
            "   macro avg       0.67      0.67      0.66      1048\n",
            "weighted avg       0.71      0.68      0.69      1048\n",
            "\n",
            "\n",
            "Accuracy for Service: 0.81\n",
            "Performance for Service:\n",
            "              precision    recall  f1-score   support\n",
            "\n",
            "           0       0.76      0.70      0.72       204\n",
            "           1       0.72      0.87      0.79       294\n",
            "           2       0.89      0.82      0.86       550\n",
            "\n",
            "    accuracy                           0.81      1048\n",
            "   macro avg       0.79      0.80      0.79      1048\n",
            "weighted avg       0.82      0.81      0.81      1048\n",
            "\n",
            "\n"
          ]
        }
      ],
      "source": [
        "from catboost import CatBoostClassifier\n",
        "\n",
        "catboost_models = train_and_evaluate_model(\n",
        "    datasets=datasets,\n",
        "    model_class=CatBoostClassifier,\n",
        "    iterations=500,\n",
        "    learning_rate=0.1,\n",
        "    depth=6,\n",
        "    verbose=0,\n",
        "    random_seed=42\n",
        ")"
      ]
    },
    {
      "cell_type": "code",
      "execution_count": null,
      "id": "741e670c-9bc0-4ebe-a718-5874fcf31f2c",
      "metadata": {
        "id": "741e670c-9bc0-4ebe-a718-5874fcf31f2c",
        "outputId": "43c0d9a2-85c2-4477-e8ff-5497a8daeb88"
      },
      "outputs": [
        {
          "ename": "TypeError",
          "evalue": "unhashable type: 'numpy.ndarray'",
          "output_type": "error",
          "traceback": [
            "\u001b[0;31m---------------------------------------------------------------------------\u001b[0m",
            "\u001b[0;31mTypeError\u001b[0m                                 Traceback (most recent call last)",
            "Cell \u001b[0;32mIn[44], line 3\u001b[0m\n\u001b[1;32m      1\u001b[0m test_review \u001b[38;5;241m=\u001b[39m \u001b[38;5;124m\"\u001b[39m\u001b[38;5;124mWe had a 5PM reservation on Saturday and arrived at 4:54. We were told seating began at 5PM and were asked to wait. Ten minutes later, we were still standing along with a minimum 50 others in a very small and increasingly crowded entryway and no one was being seated, although 4 hosts/hostesses talked among themselves standing idly behind the reception desk. Progress was not evident. We had a 7PM concert, so we left and were happily accommodated elsewhere.\u001b[39m\u001b[38;5;124m\"\u001b[39m\n\u001b[0;32m----> 3\u001b[0m \u001b[38;5;28mprint\u001b[39m(predict_review(test_review, catboost_models))\n",
            "Cell \u001b[0;32mIn[16], line 9\u001b[0m, in \u001b[0;36mpredict_review\u001b[0;34m(review, models)\u001b[0m\n\u001b[1;32m      6\u001b[0m     review_vec \u001b[38;5;241m=\u001b[39m vectorizer\u001b[38;5;241m.\u001b[39mtransform([review])\n\u001b[1;32m      7\u001b[0m     prediction \u001b[38;5;241m=\u001b[39m model\u001b[38;5;241m.\u001b[39mpredict(review_vec)[\u001b[38;5;241m0\u001b[39m]\n\u001b[0;32m----> 9\u001b[0m     predictions[target] \u001b[38;5;241m=\u001b[39m {\n\u001b[1;32m     10\u001b[0m         \u001b[38;5;241m2\u001b[39m: \u001b[38;5;124m'\u001b[39m\u001b[38;5;124mGood\u001b[39m\u001b[38;5;124m'\u001b[39m,\n\u001b[1;32m     11\u001b[0m         \u001b[38;5;241m1\u001b[39m: \u001b[38;5;124m'\u001b[39m\u001b[38;5;124mNeutral\u001b[39m\u001b[38;5;124m'\u001b[39m,\n\u001b[1;32m     12\u001b[0m         \u001b[38;5;241m0\u001b[39m: \u001b[38;5;124m'\u001b[39m\u001b[38;5;124mBad\u001b[39m\u001b[38;5;124m'\u001b[39m\n\u001b[1;32m     13\u001b[0m     }[prediction]\n\u001b[1;32m     15\u001b[0m \u001b[38;5;28;01mreturn\u001b[39;00m predictions\n",
            "\u001b[0;31mTypeError\u001b[0m: unhashable type: 'numpy.ndarray'"
          ]
        }
      ],
      "source": [
        "test_review = \"We had a 5PM reservation on Saturday and arrived at 4:54. We were told seating began at 5PM and were asked to wait. Ten minutes later, we were still standing along with a minimum 50 others in a very small and increasingly crowded entryway and no one was being seated, although 4 hosts/hostesses talked among themselves standing idly behind the reception desk. Progress was not evident. We had a 7PM concert, so we left and were happily accommodated elsewhere.\"\n",
        "\n",
        "print(predict_review(test_review, catboost_models))"
      ]
    },
    {
      "cell_type": "code",
      "execution_count": null,
      "id": "75d5e27c-7d5b-4691-ba37-af1751df576a",
      "metadata": {
        "id": "75d5e27c-7d5b-4691-ba37-af1751df576a"
      },
      "outputs": [],
      "source": []
    }
  ],
  "metadata": {
    "kernelspec": {
      "display_name": "Python 3 (ipykernel)",
      "language": "python",
      "name": "python3"
    },
    "language_info": {
      "codemirror_mode": {
        "name": "ipython",
        "version": 3
      },
      "file_extension": ".py",
      "mimetype": "text/x-python",
      "name": "python",
      "nbconvert_exporter": "python",
      "pygments_lexer": "ipython3",
      "version": "3.12.1"
    },
    "colab": {
      "provenance": []
    }
  },
  "nbformat": 4,
  "nbformat_minor": 5
}